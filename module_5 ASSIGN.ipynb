{
 "cells": [
  {
   "cell_type": "code",
   "execution_count": null,
   "id": "3d6655aa-8093-4f7a-8752-ca54f30b0e5e",
   "metadata": {},
   "outputs": [],
   "source": [
    "#QUES1. What are the five key concepts of Object-Oriented Programming (OOP)?\n",
    "#ANS.  They are-\n",
    "       #Data Abstration\n",
    "       #Encapsulation\n",
    "       #Polymorphism\n",
    "       #Inheritence\n",
    "       #class and object"
   ]
  },
  {
   "cell_type": "code",
   "execution_count": 2,
   "id": "0958f26a-56e9-4dd4-aeeb-e8f48330a1cd",
   "metadata": {},
   "outputs": [
    {
     "name": "stdout",
     "output_type": "stream",
     "text": [
      "Car:tata suzuki 2024\n"
     ]
    }
   ],
   "source": [
    "#QUES2. Write a Python class for a `Car` with attributes for `make`, `model`, and `year`. Include a method to display\n",
    "        #the car's information.\n",
    "class Car:\n",
    "    def __init__(self, make, model,year):\n",
    "        self.make= make\n",
    "        self.model= model\n",
    "        self.year= year\n",
    "\n",
    "    def display_info(self):\n",
    "        print(f\"Car:{self.make} {self.model} {self.year}\")\n",
    "        \n",
    "my_car =Car(\"tata\", \"suzuki\", 2024)\n",
    "my_car.display_info()\n",
    "        "
   ]
  },
  {
   "cell_type": "code",
   "execution_count": null,
   "id": "76d5c395-f0a9-4b19-a14d-82f4a1905285",
   "metadata": {},
   "outputs": [],
   "source": [
    "#QUES3.  Explain the difference between instance methods and class methods. Provide an example of each.\n",
    "#ANS.   Instance method and class method are both the methods called with in a class.\n",
    "        #Instance method- It can access through the self parameter.\n",
    "        #It is define by the self parameter as its first parameter.\n",
    "        #It is called on individual instances of a class."
   ]
  },
  {
   "cell_type": "code",
   "execution_count": 3,
   "id": "405b5f12-375f-406e-885d-5e244eebf070",
   "metadata": {},
   "outputs": [
    {
     "name": "stdout",
     "output_type": "stream",
     "text": [
      "Rex is barking!\n"
     ]
    }
   ],
   "source": [
    "#example\n",
    "class Dog:\n",
    "    def __init__(self, name, breed):\n",
    "        self.name = name\n",
    "        self.breed = breed\n",
    "    \n",
    "    # Instance method\n",
    "    def bark(self):\n",
    "        return f\"{self.name} is barking!\"\n",
    "    \n",
    "# Create an instance of Dog\n",
    "my_dog = Dog(\"Rex\", \"Labrador\")\n",
    "print(my_dog.bark())  \n"
   ]
  },
  {
   "cell_type": "code",
   "execution_count": null,
   "id": "53c6e6ca-f548-44db-866c-baaee812dc4f",
   "metadata": {},
   "outputs": [],
   "source": [
    "#Class method-We can access by taking a reference to the class (cls) as the first parameter.\n",
    "#It is define by writing @classmethod decorator."
   ]
  },
  {
   "cell_type": "code",
   "execution_count": 4,
   "id": "36ab1d07-2b33-461a-9525-a4ca48aee3c5",
   "metadata": {},
   "outputs": [
    {
     "name": "stdout",
     "output_type": "stream",
     "text": [
      "All dogs are Canine.\n",
      "All dogs are Canine.\n"
     ]
    }
   ],
   "source": [
    "#example-\n",
    "class Dog:\n",
    "    species = \"Canine\"  # Class attribute\n",
    "    \n",
    "    def __init__(self, name, breed):\n",
    "        self.name = name\n",
    "        self.breed = breed\n",
    "    \n",
    "    # Class method\n",
    "    @classmethod\n",
    "    def get_species(cls):\n",
    "        return f\"All dogs are {cls.species}.\"\n",
    "    \n",
    "# Call class method on the class itself\n",
    "print(Dog.get_species())  # Output: All dogs are Canine.\n",
    "\n",
    "# Call class method on an instance\n",
    "my_dog = Dog(\"Rex\", \"Labrador\")\n",
    "print(my_dog.get_species()) "
   ]
  },
  {
   "cell_type": "code",
   "execution_count": null,
   "id": "a238858d-e688-4e59-b9f5-38be0e0dd017",
   "metadata": {},
   "outputs": [],
   "source": [
    "#QUES4. How does Python implement method overloading? Give an example.\n",
    "#ANS.  Method overloading means to have multiple methods with same name but different argument.\n",
    "        #but in python it is complex to use so we take default argument like *args, **kwargs. *args it accepts\n",
    "        #non keyword argument while **kwargs accepts keyword arguments."
   ]
  },
  {
   "cell_type": "code",
   "execution_count": null,
   "id": "728c723f-afad-4994-864b-fc9c9f6ee874",
   "metadata": {},
   "outputs": [],
   "source": [
    "#QUES5.  What are the three types of access modifiers in Python? How are they denoted?\n",
    "#ANS.   3 types of access modifiers are-\n",
    "        #private\n",
    "        #public\n",
    "        #protected\n",
    "#Private- The private memebers can only be accessible by within the class where it defined . It cannot access outside \n",
    "            #of the class.It is denoted by double underscore__.\n",
    "#Public- The public members can be accessible in both inside and outside of the class.\n",
    "         #It does not have any prefix like in private.\n",
    "#Protected- The protected member cannot access outside directly.\n",
    "            #It is denoted by single underscore_."
   ]
  },
  {
   "cell_type": "code",
   "execution_count": 5,
   "id": "84411611-82c6-420f-8bcc-aeadbcc304a2",
   "metadata": {},
   "outputs": [
    {
     "name": "stdout",
     "output_type": "stream",
     "text": [
      "Animal speaks\n",
      "Bird flies\n",
      "Parrot talks\n"
     ]
    }
   ],
   "source": [
    "#QUES6.  Describe the five types of inheritance in Python. Provide a simple example of multiple inheritance.\n",
    "#ANS.   5 Types of inheritance are-\n",
    "        #Single \n",
    "        #Multilevel\n",
    "        #Hybrid\n",
    "        #Hierarchical\n",
    "        #multiple\n",
    "#Multiple Inheritance- In multiple inheritance, a child class inherits from more than one parent class. The \n",
    "                        #child class has access to the properties and methods of all parent classes.\n",
    "#example of multiple-\n",
    "class Animal:\n",
    "    def speak(self):\n",
    "        print(\"Animal speaks\")\n",
    "\n",
    "class Bird:\n",
    "    def fly(self):\n",
    "        print(\"Bird flies\")\n",
    "\n",
    "class Parrot(Animal, Bird):  # Parrot inherits from both Animal and Bird\n",
    "    def talk(self):\n",
    "        print(\"Parrot talks\")\n",
    "\n",
    "p = Parrot()\n",
    "p.speak()  # Inherited from Animal\n",
    "p.fly()    # Inherited from Bird\n",
    "p.talk()   # Parrot's own method"
   ]
  },
  {
   "cell_type": "code",
   "execution_count": null,
   "id": "be495697-ecc3-471e-ac2e-05dab2fc819b",
   "metadata": {},
   "outputs": [],
   "source": [
    "#QUES7. What is the Method Resolution Order (MRO) in Python?\n",
    "#ANS.  MRO looks for a method and attributes when multiple inheritance is involved.MRO defines the\n",
    "       #sequence in which classes are traversed when a method or attribute is accessed. \n",
    "        #It occurs in diamond problem in  multiple inheritance .We can resolve this problem by MRO."
   ]
  },
  {
   "cell_type": "code",
   "execution_count": null,
   "id": "3ccce06e-ec7f-4c22-b129-ac4df323bf68",
   "metadata": {},
   "outputs": [],
   "source": [
    "#QUES8. Create an abstract base class `Shape` with an abstract method `area()`. Then create two subclasses\n",
    "#`Circle` and `Rectangle` that implement the `area()` method."
   ]
  },
  {
   "cell_type": "code",
   "execution_count": 6,
   "id": "f0ceadb2-b622-459b-af05-0501f38349ae",
   "metadata": {},
   "outputs": [
    {
     "name": "stdout",
     "output_type": "stream",
     "text": [
      "Area of the circle: 78.53981633974483\n",
      "Area of the rectangle: 24\n"
     ]
    }
   ],
   "source": [
    "from abc import ABC, abstractmethod\n",
    "import math\n",
    "class Shape(ABC):\n",
    "    @abstractmethod\n",
    "    def area(self):\n",
    "        pass\n",
    "class Circle(Shape):\n",
    "    def __init__(self, radius):\n",
    "        self.radius = radius\n",
    "\n",
    "    def area(self):\n",
    "        return math.pi * self.radius ** 2\n",
    "class Rectangle(Shape):\n",
    "    def __init__(self, width, height):\n",
    "        self.width = width\n",
    "        self.height = height\n",
    "\n",
    "    def area(self):\n",
    "        return self.width * self.height\n",
    "circle = Circle(5)  \n",
    "rectangle = Rectangle(4, 6) \n",
    "print(f\"Area of the circle: {circle.area()}\")      \n",
    "print(f\"Area of the rectangle: {rectangle.area()}\")  \n"
   ]
  },
  {
   "cell_type": "code",
   "execution_count": null,
   "id": "fbc1f54e-2d49-4cb9-bff5-8362d4c3755c",
   "metadata": {},
   "outputs": [],
   "source": [
    "#QUES9.  Demonstrate polymorphism by creating a function that can work with different shape objects to calculate\n",
    "        #and print their areas."
   ]
  },
  {
   "cell_type": "code",
   "execution_count": 8,
   "id": "48303a1d-01bb-41cd-b1f3-bda8a8badfde",
   "metadata": {},
   "outputs": [
    {
     "name": "stdout",
     "output_type": "stream",
     "text": [
      "The area of the Circle is 78.53981633974483\n",
      "The area of the Rectangle is 24\n"
     ]
    }
   ],
   "source": [
    "from abc import ABC, abstractmethod\n",
    "import math\n",
    "\n",
    "# Abstract Base Class\n",
    "class Shape(ABC):\n",
    "    \n",
    "    @abstractmethod\n",
    "    def area(self):\n",
    "        pass\n",
    "\n",
    "class Circle(Shape):\n",
    "    def __init__(self, radius):\n",
    "        self.radius = radius\n",
    "\n",
    "    def area(self):\n",
    "        return math.pi * self.radius ** 2\n",
    "\n",
    "class Rectangle(Shape):\n",
    "    def __init__(self, width, height):\n",
    "        self.width = width\n",
    "        self.height = height\n",
    "\n",
    "    def area(self):\n",
    "        return self.width * self.height\n",
    "\n",
    "def print_area(shape):\n",
    "    print(f\"The area of the {shape.__class__.__name__} is {shape.area()}\")\n",
    "\n",
    "circle = Circle(5)\n",
    "rectangle = Rectangle(4, 6)\n",
    "\n",
    "print_area(circle)      \n",
    "print_area(rectangle)   \n"
   ]
  },
  {
   "cell_type": "code",
   "execution_count": null,
   "id": "a16a2c35-82b8-4bcb-a09d-e9dc49e3c11d",
   "metadata": {},
   "outputs": [],
   "source": [
    "#QUES 10.  Implement encapsulation in a `BankAccount` class with private attributes for `balance` and\n",
    "            #`account_number`. Include methods for deposit, withdrawal, and balance inquiry"
   ]
  },
  {
   "cell_type": "code",
   "execution_count": 9,
   "id": "903d8b91-1d80-47a2-bdb1-692ccc140207",
   "metadata": {},
   "outputs": [
    {
     "name": "stdout",
     "output_type": "stream",
     "text": [
      "Deposited 200. New balance is 700\n",
      "Withdrew 100. New balance is 600\n",
      "Your current balance is 600\n",
      "Account Number: 12345678\n"
     ]
    }
   ],
   "source": [
    "class BankAccount:\n",
    "    def __init__(self, account_number, initial_balance=0):\n",
    "        self.__account_number = account_number\n",
    "        self.__balance = initial_balance\n",
    "    def deposit(self, amount):\n",
    "        if amount > 0:\n",
    "            self.__balance += amount\n",
    "            print(f\"Deposited {amount}. New balance is {self.__balance}\")\n",
    "        else:\n",
    "            print(\"Deposit amount must be positive.\")\n",
    "    def withdraw(self, amount):\n",
    "        if 0 < amount <= self.__balance:\n",
    "            self.__balance -= amount\n",
    "            print(f\"Withdrew {amount}. New balance is {self.__balance}\")\n",
    "        else:\n",
    "            print(\"Insufficient balance or invalid amount.\")\n",
    "\n",
    "    def check_balance(self):\n",
    "        return f\"Your current balance is {self.__balance}\"\n",
    "    def get_account_number(self):\n",
    "        return self.__account_number\n",
    "\n",
    "# Example usag\n",
    "account = BankAccount(\"12345678\", 500)\n",
    "# Deposit money\n",
    "account.deposit(200)  \n",
    "# Withdraw money\n",
    "account.withdraw(100)  \n",
    "# Check balance\n",
    "print(account.check_balance())  \n",
    "# Get account number\n",
    "print(f\"Account Number: {account.get_account_number()}\")  "
   ]
  },
  {
   "cell_type": "code",
   "execution_count": null,
   "id": "61eea469-e461-4b7c-8787-640587a727d6",
   "metadata": {},
   "outputs": [],
   "source": [
    "#QUES11. Write a class that overrides the `__str__` and `__add__` magic methods. What will these methods allow\n",
    "        #you to do?\n",
    "#ANS.   Magic methods are also called dunder method due to double underscore __ . They are special methods used in python \n",
    "        #inbuilt function. 2 common methods are-\n",
    "        #__str__() and __add__()\n",
    "        #__str__()- The __str__() method is used to provide a human-readable string representation of an object. It is\n",
    "                    #called when str() or print() is used on an object.\n",
    "        #The __add__()- method is used to define behavior for the addition (+) operator between objects of a class."
   ]
  },
  {
   "cell_type": "code",
   "execution_count": 10,
   "id": "8540ee0a-ec15-4a23-9dc5-f9071438f756",
   "metadata": {},
   "outputs": [
    {
     "name": "stdout",
     "output_type": "stream",
     "text": [
      "Point(2, 3)\n",
      "Point(4, 5)\n",
      "Point(6, 8)\n"
     ]
    }
   ],
   "source": [
    "class Point:\n",
    "    def __init__(self, x, y):\n",
    "        self.x = x\n",
    "        self.y = y\n",
    "    \n",
    "    # Overriding the __str__ method for string representation\n",
    "    def __str__(self):\n",
    "        return f\"Point({self.x}, {self.y})\"\n",
    "    \n",
    "    # Overriding the __add__ method to define how two Point objects are added\n",
    "    def __add__(self, other):\n",
    "        if (other, Point):\n",
    "            return Point(self.x + other.x, self.y + other.y)\n",
    "        return NotImplemented\n",
    "p1 = Point(2, 3)\n",
    "p2 = Point(4, 5)\n",
    "\n",
    "print(p1)  \n",
    "print(p2)  \n",
    "p3 = p1 + p2 \n",
    "print(p3)     "
   ]
  },
  {
   "cell_type": "code",
   "execution_count": null,
   "id": "e168acf4-6f78-45da-97f4-7cf6ad8d2674",
   "metadata": {},
   "outputs": [],
   "source": [
    "#QUES 12. Create a decorator that measures and prints the execution time of a function.\n",
    "#ANS.   Decorators takes a function as input , adds some functionality to it & returns a new function by using \n",
    "        #@decorator_name."
   ]
  },
  {
   "cell_type": "code",
   "execution_count": 11,
   "id": "86d130e6-4823-4086-baac-cf12a2728d12",
   "metadata": {},
   "outputs": [
    {
     "name": "stdout",
     "output_type": "stream",
     "text": [
      "11000\n",
      "code time 0.0\n"
     ]
    }
   ],
   "source": [
    "import time \n",
    "def time_decorator(func):\n",
    "    def timer():\n",
    "        start=time.time()\n",
    "        func()\n",
    "        end=time.time()\n",
    "        print(\"code time\", end-start)\n",
    "    return timer\n",
    "@time_decorator\n",
    "def func_test():\n",
    "    print(11*1000)\n",
    "func_test()"
   ]
  },
  {
   "cell_type": "code",
   "execution_count": null,
   "id": "f55e0c99-d52b-418b-886f-214c74740690",
   "metadata": {},
   "outputs": [],
   "source": [
    "#QUES 13. Explain the concept of the Diamond Problem in multiple inheritance. How does Python resolve it?\n",
    "#ANS.    It occurs in multiple inheritance .When a class inherits from 2 or more than 2 classes which have common base \n",
    "        #class creating \"Diamond Problem\".\n",
    "        #Python can resolve this problem by MRO i.e Method Resolution Order.\n",
    "        #python resolves this issues by using C3 Linearization algorithm which determines MRO for a class. The MRO signifies \n",
    "        #in sequence in the class hierarchy when we call it. It looks first into the child class then parent class."
   ]
  },
  {
   "cell_type": "code",
   "execution_count": null,
   "id": "2c4e3f66-c615-48ba-8456-43fc6a829db1",
   "metadata": {},
   "outputs": [],
   "source": [
    "#QUES 14.  Write a class method that keeps track of the number of instances created from a class?\n",
    "#ANS.     To keep track of the number of instances created from a class, you can use a class variable and a class method. The \n",
    "          #class variable will store the count of instances, and the class method will access or return this value."
   ]
  },
  {
   "cell_type": "code",
   "execution_count": null,
   "id": "c4b1465d-7a85-4e74-8208-31e9b4b4b31a",
   "metadata": {},
   "outputs": [],
   "source": [
    "#QUES 15.  Implement a static method in a class that checks if a given year is a leap year.\n",
    "#ANS       A static method in Python is a method that does not require access to the instance or class variables,\n",
    "            #and is used to group logically related functions within a class. It is defined using the @staticmethod decorator."
   ]
  },
  {
   "cell_type": "code",
   "execution_count": 12,
   "id": "3fd1193e-144d-48fc-bfed-30aaff6a3cf2",
   "metadata": {},
   "outputs": [
    {
     "name": "stdout",
     "output_type": "stream",
     "text": [
      "no\n"
     ]
    }
   ],
   "source": [
    "class leapyear:\n",
    "    @staticmethod\n",
    "    def leap_year(year):\n",
    "      if(year % 4==0):\n",
    "        print(\"leap year\")\n",
    "      else:\n",
    "        print(\"no\")\n",
    "lp=leapyear\n",
    "lp.leap_year(2026)"
   ]
  },
  {
   "cell_type": "code",
   "execution_count": null,
   "id": "701d2e52-f957-4ce3-b7e1-e3f94ffcb5a8",
   "metadata": {},
   "outputs": [],
   "source": []
  }
 ],
 "metadata": {
  "kernelspec": {
   "display_name": "Python 3 (ipykernel)",
   "language": "python",
   "name": "python3"
  },
  "language_info": {
   "codemirror_mode": {
    "name": "ipython",
    "version": 3
   },
   "file_extension": ".py",
   "mimetype": "text/x-python",
   "name": "python",
   "nbconvert_exporter": "python",
   "pygments_lexer": "ipython3",
   "version": "3.12.4"
  }
 },
 "nbformat": 4,
 "nbformat_minor": 5
}
